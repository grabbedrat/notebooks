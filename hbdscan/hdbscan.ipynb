{
 "cells": [
  {
   "cell_type": "code",
   "execution_count": 1,
   "metadata": {},
   "outputs": [
    {
     "ename": "NameError",
     "evalue": "name 'bookmarks' is not defined",
     "output_type": "error",
     "traceback": [
      "\u001b[0;31m---------------------------------------------------------------------------\u001b[0m",
      "\u001b[0;31mNameError\u001b[0m                                 Traceback (most recent call last)",
      "Cell \u001b[0;32mIn[1], line 9\u001b[0m\n\u001b[1;32m      6\u001b[0m \u001b[38;5;28;01mfrom\u001b[39;00m \u001b[38;5;21;01msklearn\u001b[39;00m\u001b[38;5;21;01m.\u001b[39;00m\u001b[38;5;21;01mdecomposition\u001b[39;00m \u001b[38;5;28;01mimport\u001b[39;00m PCA\n\u001b[1;32m      8\u001b[0m \u001b[38;5;66;03m# Preprocess the bookmarks data\u001b[39;00m\n\u001b[0;32m----> 9\u001b[0m bookmarks_data \u001b[38;5;241m=\u001b[39m [{\u001b[38;5;124m\"\u001b[39m\u001b[38;5;124mname\u001b[39m\u001b[38;5;124m\"\u001b[39m: bookmark[\u001b[38;5;124m\"\u001b[39m\u001b[38;5;124mname\u001b[39m\u001b[38;5;124m\"\u001b[39m], \u001b[38;5;124m\"\u001b[39m\u001b[38;5;124murl\u001b[39m\u001b[38;5;124m\"\u001b[39m: bookmark[\u001b[38;5;124m\"\u001b[39m\u001b[38;5;124murl\u001b[39m\u001b[38;5;124m\"\u001b[39m], \u001b[38;5;124m\"\u001b[39m\u001b[38;5;124mtags\u001b[39m\u001b[38;5;124m\"\u001b[39m: \u001b[38;5;124m\"\u001b[39m\u001b[38;5;124m \u001b[39m\u001b[38;5;124m\"\u001b[39m\u001b[38;5;241m.\u001b[39mjoin(bookmark[\u001b[38;5;124m\"\u001b[39m\u001b[38;5;124mtags\u001b[39m\u001b[38;5;124m\"\u001b[39m])} \u001b[38;5;28;01mfor\u001b[39;00m bookmark \u001b[38;5;129;01min\u001b[39;00m \u001b[43mbookmarks\u001b[49m]\n\u001b[1;32m     11\u001b[0m \u001b[38;5;66;03m# Extract features using TF-IDF vectorization\u001b[39;00m\n\u001b[1;32m     12\u001b[0m vectorizer \u001b[38;5;241m=\u001b[39m TfidfVectorizer()\n",
      "\u001b[0;31mNameError\u001b[0m: name 'bookmarks' is not defined"
     ]
    }
   ],
   "source": [
    "import numpy as np\n",
    "import matplotlib.pyplot as plt\n",
    "import seaborn as sns\n",
    "import hdbscan\n",
    "from sklearn.feature_extraction.text import TfidfVectorizer\n",
    "from sklearn.decomposition import PCA\n",
    "\n",
    "\n",
    "with open('tagged_data.json') as file:\n",
    "    bookmarks = json.load(file)\n",
    "\n",
    "# Preprocess the bookmarks data\n",
    "bookmarks_data = [{\"name\": bookmark[\"name\"], \"url\": bookmark[\"url\"], \"tags\": \" \".join(bookmark[\"tags\"])} for bookmark in bookmarks]\n",
    "\n",
    "# Extract features using TF-IDF vectorization\n",
    "vectorizer = TfidfVectorizer()\n",
    "features = vectorizer.fit_transform([bookmark[\"tags\"] for bookmark in bookmarks_data])\n",
    "\n",
    "# Reduce dimensionality using PCA\n",
    "pca = PCA(n_components=2)\n",
    "reduced_features = pca.fit_transform(features.toarray())\n",
    "\n",
    "# Apply HDBSCAN clustering\n",
    "clusterer = hdbscan.HDBSCAN(min_cluster_size=5)\n",
    "clusterer.fit(reduced_features)\n",
    "\n",
    "# Visualize the clustering results\n",
    "plt.figure(figsize=(8, 6))\n",
    "sns.scatterplot(x=reduced_features[:, 0], y=reduced_features[:, 1], hue=clusterer.labels_, palette='viridis', s=80, linewidths=0)\n",
    "plt.xlabel('PCA Component 1')\n",
    "plt.ylabel('PCA Component 2')\n",
    "plt.title('HDBSCAN Clustering of Bookmarks')\n",
    "plt.tight_layout()\n",
    "plt.show()"
   ]
  }
 ],
 "metadata": {
  "kernelspec": {
   "display_name": "base",
   "language": "python",
   "name": "python3"
  },
  "language_info": {
   "codemirror_mode": {
    "name": "ipython",
    "version": 3
   },
   "file_extension": ".py",
   "mimetype": "text/x-python",
   "name": "python",
   "nbconvert_exporter": "python",
   "pygments_lexer": "ipython3",
   "version": "3.12.2"
  }
 },
 "nbformat": 4,
 "nbformat_minor": 2
}
